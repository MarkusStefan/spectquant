{
 "cells": [
  {
   "cell_type": "code",
   "execution_count": 8,
   "metadata": {},
   "outputs": [
    {
     "name": "stdout",
     "output_type": "stream",
     "text": [
      "False\n"
     ]
    },
    {
     "data": {
      "text/plain": [
       "'/Users/markus/GitHub/PACKAGES/markers/examples'"
      ]
     },
     "execution_count": 8,
     "metadata": {},
     "output_type": "execute_result"
    }
   ],
   "source": [
    "from typing import Tuple, List\n",
    "import nibabel as nib\n",
    "import json\n",
    "import gdown\n",
    "import os\n",
    "import numpy as np\n",
    "import pandas as pd\n",
    "import matplotlib.pyplot as plt\n",
    "from ipywidgets import interact, interactive, fixed, interact_manual\n",
    "\n",
    "\n",
    "import sys\n",
    "sys.path.append('..')\n",
    "\n",
    "from markers.utils import * \n",
    "from markers.morphology import erode_segmentation, compute_suv\n",
    "\n",
    "import torch\n",
    "USE_GPU = torch.cuda.is_available()\n",
    "print(USE_GPU)\n",
    "\n",
    "os.getcwd()"
   ]
  },
  {
   "cell_type": "markdown",
   "metadata": {},
   "source": [
    "# Get Data"
   ]
  },
  {
   "cell_type": "code",
   "execution_count": 4,
   "metadata": {},
   "outputs": [
    {
     "name": "stdout",
     "output_type": "stream",
     "text": [
      "CT.nii.gz already exists, skipping...\n",
      "segmentation.nii.gz already exists, skipping...\n"
     ]
    },
    {
     "name": "stderr",
     "output_type": "stream",
     "text": [
      "Downloading...\n",
      "From: https://drive.google.com/uc?id=1yBeopAALgt8BhEiH8d11JUj4C6UNuhW2\n",
      "To: /Users/markus/GitHub/PACKAGES/markers/data/highlighted_resampled.nii.gz\n",
      "100%|██████████| 57.3k/57.3k [00:00<00:00, 611kB/s]\n",
      "Downloading...\n",
      "From: https://drive.google.com/uc?id=1yBeopAALgt8BhEiH8d11JUj4C6UNuhW2\n",
      "To: /Users/markus/GitHub/PACKAGES/markers/data/resampled_segmentation.nii.gz\n",
      "100%|██████████| 57.3k/57.3k [00:00<00:00, 673kB/s]\n",
      "Downloading...\n",
      "From: https://drive.google.com/uc?id=12qa8qFkrO9-alMAVj-uqyn4B4CgzX_kc\n",
      "To: /Users/markus/GitHub/PACKAGES/markers/data/resampled_CT.nii.gz\n",
      "100%|██████████| 12.3M/12.3M [00:02<00:00, 5.03MB/s]\n"
     ]
    }
   ],
   "source": [
    "DUMMY_DATA = os.path.join('..', 'data')\n",
    "with open(os.path.join(DUMMY_DATA, 'gdrive.json')) as f:\n",
    "    data = json.load(f)\n",
    "\n",
    "\n",
    " \n",
    "for filename, gdrive_link in data.items():\n",
    "    if os.path.exists(os.path.join(DUMMY_DATA, filename)):\n",
    "        print(f'{filename} already exists, skipping...')\n",
    "        continue\n",
    "\n",
    "    # extract the file id from the link\n",
    "    file_id = gdrive_link.split('/')[-2]\n",
    "\n",
    "    # build download link\n",
    "    download_link = f'https://drive.google.com/uc?id={file_id}'\n",
    "    try:\n",
    "        gdown.download(download_link, os.path.join(DUMMY_DATA, filename), quiet=False)\n",
    "    except Exception as e:\n",
    "        print(f'Error with {filename}:\\n{e}')"
   ]
  },
  {
   "cell_type": "markdown",
   "metadata": {},
   "source": [
    "# Create Segmentations"
   ]
  },
  {
   "cell_type": "code",
   "execution_count": 6,
   "metadata": {},
   "outputs": [
    {
     "name": "stdout",
     "output_type": "stream",
     "text": [
      "\n",
      "If you use this tool please cite: https://pubs.rsna.org/doi/10.1148/ryai.230024\n",
      "\n",
      "No GPU detected. Running on CPU. This can be very slow. The '--fast' or the `--roi_subset` option can help to reduce runtime.\n",
      "Generating rough body segmentation...\n",
      "Resampling...\n",
      "  Resampled in 5.79s\n",
      "Predicting...\n"
     ]
    },
    {
     "name": "stderr",
     "output_type": "stream",
     "text": [
      "/Users/markus/GitHub/LOCAL/lib/python3.11/site-packages/nnunetv2/utilities/plans_handling/plans_handler.py:37: UserWarning: Detected old nnU-Net plans format. Attempting to reconstruct network architecture parameters. If this fails, rerun nnUNetv2_plan_experiment for your dataset. If you use a custom architecture, please downgrade nnU-Net to the version you implemented this or update your implementation + plans.\n",
      "  warnings.warn(\"Detected old nnU-Net plans format. Attempting to reconstruct network architecture \"\n",
      "100%|██████████| 28/28 [00:34<00:00,  1.22s/it]\n"
     ]
    },
    {
     "name": "stdout",
     "output_type": "stream",
     "text": [
      "  Predicted in 41.45s\n",
      "Resampling...\n",
      "  cropping from (512, 512, 541) to (178, 185, 59)\n",
      "Predicting...\n"
     ]
    },
    {
     "name": "stderr",
     "output_type": "stream",
     "text": [
      "100%|██████████| 12/12 [09:25<00:00, 47.16s/it]\n"
     ]
    },
    {
     "name": "stdout",
     "output_type": "stream",
     "text": [
      "  Predicted in 578.06s\n",
      "Saving segmentations...\n"
     ]
    },
    {
     "data": {
      "application/vnd.jupyter.widget-view+json": {
       "model_id": "44f04c08eec74ad5b88cda1e7ebc4aa7",
       "version_major": 2,
       "version_minor": 0
      },
      "text/plain": [
       "  0%|          | 0/7 [00:00<?, ?it/s]"
      ]
     },
     "metadata": {},
     "output_type": "display_data"
    },
    {
     "name": "stdout",
     "output_type": "stream",
     "text": [
      "Creating heart_myocardium.nii.gzCreating heart_atrium_left.nii.gz\n",
      "\n",
      "Creating heart_ventricle_left.nii.gz\n",
      "Creating heart_atrium_right.nii.gz\n",
      "Creating heart_ventricle_right.nii.gz\n",
      "Creating aorta.nii.gz\n",
      "Creating pulmonary_artery.nii.gz\n",
      "  Saved in 9.02s\n"
     ]
    }
   ],
   "source": [
    "from markers.create_segs import create_segs\n",
    "\n",
    "create_segs(input_path=os.path.join(DUMMY_DATA, 'CT.nii.gz'),\n",
    "            output_path=os.path.join(DUMMY_DATA, 'segs'),\n",
    "            task='total',\n",
    "            body_seg=True,\n",
    "            roi_subset=None, # use default segmentations\n",
    "            )\n",
    "create_segs(input_path=os.path.join(DUMMY_DATA, 'CT.nii.gz'),\n",
    "            output_path=os.path.join(DUMMY_DATA, 'segs'),\n",
    "            task='heartchambers_highres',\n",
    "            body_seg=True,\n",
    "            roi_subset=None, # will be ignored anyways\n",
    "            )"
   ]
  },
  {
   "cell_type": "markdown",
   "metadata": {},
   "source": [
    "# Compute SUV\n"
   ]
  },
  {
   "cell_type": "code",
   "execution_count": null,
   "metadata": {},
   "outputs": [],
   "source": [
    "from markers.suv import SUV\n",
    "\n",
    "instance = SUV(segs_path=DUMMY_DATA,\n",
    "               spect_path=os.path.join(DUMMY_DATA, 'SPECT.nii.gz'),\n",
    "               threshold=0.4,\n",
    "               mm_to_erode=3,\n",
    "               suv_cube_vol=4,\n",
    "               suv_method='peak',\n",
    "               use_convolution=True,\n",
    "               use_gpu=USE_GPU,\n",
    "               verbose=True)\n",
    "\n",
    "rtidx = instance.compute_retention_idx(vertebrae=\"T9\", use_median_vertebrae=False)\n",
    "suv_peak = instance.compute_suv(body_part='heart_myocardium', preprocess=True)\n",
    "instance._free_memory(verbose=True)\n",
    "print(rtidx, suv_peak)"
   ]
  },
  {
   "cell_type": "code",
   "execution_count": null,
   "metadata": {},
   "outputs": [],
   "source": []
  },
  {
   "cell_type": "markdown",
   "metadata": {},
   "source": [
    "# Compute TBR"
   ]
  },
  {
   "cell_type": "code",
   "execution_count": null,
   "metadata": {},
   "outputs": [],
   "source": [
    "from markers.tbr import TBR\n",
    "\n",
    "instance = TBR(segs_path=DUMMY_DATA,\n",
    "               spect_path=os.path.join(DUMMY_DATA, 'SPECT.nii.gz'),\n",
    "               threshold=0.4,\n",
    "               mm_to_erode=3,\n",
    "               tbr_cube_vol=4,\n",
    "               tbr_method='max',\n",
    "               use_convolution=True,\n",
    "               use_gpu=USE_GPU,\n",
    "               verbose=True)\n",
    "\n",
    "tbr_peak = instance.compute_tbr(body_part='heart_myocardium', preprocess=True)\n",
    "instance._free_memory(verbose=True)\n",
    "print(tbr_peak)"
   ]
  },
  {
   "cell_type": "code",
   "execution_count": null,
   "metadata": {},
   "outputs": [],
   "source": []
  },
  {
   "cell_type": "markdown",
   "metadata": {},
   "source": [
    "# Compute CT Segmentation Volume"
   ]
  },
  {
   "cell_type": "code",
   "execution_count": null,
   "metadata": {},
   "outputs": [],
   "source": [
    "from markers.volume import Volume\n",
    "\n",
    "instance = Volume(segs_path=DUMMY_DATA,\n",
    "                  segs_subset='heart_myocardium',\n",
    "                  mm_to_erode=0\n",
    "                  )\n",
    "\n",
    "vol = instance.compute_volume(compute_number=True)\n",
    "instance.compute_volume(compute_number=False)\n",
    "instance.plot_heatmaps()\n",
    "instance._free_memory(verbose=True)\n",
    "print(vol)"
   ]
  },
  {
   "cell_type": "code",
   "execution_count": null,
   "metadata": {},
   "outputs": [],
   "source": []
  },
  {
   "cell_type": "markdown",
   "metadata": {},
   "source": [
    "# Compute SPECT Uptake Volume using SPECT Segmentation Masks"
   ]
  },
  {
   "cell_type": "code",
   "execution_count": null,
   "metadata": {},
   "outputs": [],
   "source": [
    "from markers.uptake import UptakeVol\n",
    "\n",
    "instance = UptakeVol(spect_path=os.path.join(DUMMY_DATA, 'SPECT.nii.gz'),\n",
    "                     segs_path=os.path.join(DUMMY_DATA, 'segs'),\n",
    "                     segs_subset='heart_myocardium',\n",
    "                     mm_to_dilate=10,\n",
    "                     approach='threshold-bb',\n",
    "                     threshold=0.4)\n",
    "uptake_vol = instance.compute_uptake_vol(compute_number=True, verbose=True)\n",
    "instance.compute_uptake_vol(compute_number=False, verbose=True)\n",
    "instance.plot_heatmaps()\n",
    "instance._free_memory(verbose=True)\n",
    "print(uptake_vol)\n"
   ]
  },
  {
   "cell_type": "markdown",
   "metadata": {},
   "source": [
    "# Compute Interventricular Septum Volume"
   ]
  },
  {
   "cell_type": "code",
   "execution_count": null,
   "metadata": {},
   "outputs": [],
   "source": [
    "from markers.septum import SeptumVol\n",
    "\n",
    "instance = SeptumVol(segs_path=os.path.join(DUMMY_DATA, 'segs'),\n",
    "                     seg_subset_names=['heart_ventricle_left', 'heart_ventricle_right'],\n",
    "                     mm_to_dilate=10,\n",
    "                     verbose=True)\n",
    "\n",
    "septum_vol = instance.compute_septum_vol(compute_number=True, verbose=True)\n",
    "instance.compute_septum_vol(compute_number=False, verbose=True)\n",
    "instance.vizz_septum()\n",
    "instance._free_memory(verbose=True)\n",
    "print(septum_vol)"
   ]
  },
  {
   "cell_type": "code",
   "execution_count": null,
   "metadata": {},
   "outputs": [],
   "source": []
  },
  {
   "cell_type": "code",
   "execution_count": null,
   "metadata": {},
   "outputs": [],
   "source": []
  },
  {
   "cell_type": "markdown",
   "metadata": {},
   "source": []
  }
 ],
 "metadata": {
  "kernelspec": {
   "display_name": "LOCAL",
   "language": "python",
   "name": "python3"
  },
  "language_info": {
   "codemirror_mode": {
    "name": "ipython",
    "version": 3
   },
   "file_extension": ".py",
   "mimetype": "text/x-python",
   "name": "python",
   "nbconvert_exporter": "python",
   "pygments_lexer": "ipython3",
   "version": "3.11.4"
  }
 },
 "nbformat": 4,
 "nbformat_minor": 2
}
